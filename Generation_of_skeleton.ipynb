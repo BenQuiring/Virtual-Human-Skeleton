{
 "cells": [
  {
   "cell_type": "markdown",
   "metadata": {},
   "source": [
    "# Skeleton creation"
   ]
  },
  {
   "cell_type": "code",
   "execution_count": 42,
   "metadata": {
    "id": "yRI9da45DxbE"
   },
   "outputs": [],
   "source": [
    "import numpy as np\n",
    "import pandas as pd\n",
    "import matplotlib.pyplot as plt\n",
    "from matplotlib.animation import FuncAnimation, PillowWriter\n",
    "import plotly.graph_objects as go\n",
    "from scipy.spatial.transform import Rotation\n",
    "from numpy import radians, cos, sin, array\n",
    "from scipy import signal\n",
    "from sklearn.decomposition import PCA\n",
    "import moviepy.editor as mp\n"
   ]
  },
  {
   "cell_type": "code",
   "execution_count": 43,
   "metadata": {
    "id": "w5VgJr3IEObI"
   },
   "outputs": [],
   "source": [
    "from __future__ import print_function\n",
    "from ipywidgets import interact, fixed\n",
    "import ipywidgets as widgets\n",
    "\n",
    "import cycler\n",
    "import matplotlib as mpl\n",
    "n = 100\n",
    "color = plt.cm.viridis(np.linspace(0, 1,n))\n",
    "mpl.rcParams['axes.prop_cycle'] = cycler.cycler('color', color)"
   ]
  },
  {
   "cell_type": "code",
   "execution_count": 44,
   "metadata": {
    "id": "qEgaQ8nlEWDw"
   },
   "outputs": [],
   "source": [
    "\n",
    "import matplotlib.animation as animation\n",
    "\n",
    "from matplotlib.animation import FuncAnimation"
   ]
  },
  {
   "cell_type": "code",
   "execution_count": 45,
   "metadata": {
    "id": "AlFbm04kEXQv"
   },
   "outputs": [],
   "source": [
    "\n",
    "# define 3-D points in GCS\n",
    "#Head\n",
    "def make_body_vector_pairs(df):\n",
    "  points = {}\n",
    "  points['REYE'] = np.array([df['Right eye_x'], df['Right eye_y']])\n",
    "  points['LEYE'] = np.array([df['Left eye_x'],  df['Left eye_y']])\n",
    "  points['NOSE'] = np.array([df['Nose_x'],      df['Nose_y']])\n",
    "\n",
    "  #Upper Body\n",
    "  points['STERNUM']       = np.array([df['Sternum_x'],                   df['Sternum_y']])\n",
    "  points['RSHOULDER']     = np.array([df['Rt shoulder_x'],               df['Rt shoulder_y']])\n",
    "  points['LSHOULDER']     = np.array([df['Lt shoulder_x'],               df['Lt shoulder_y']])\n",
    "  points['RELBOW']        = np.array([df['Rt elbow_x'],                  df['Rt elbow_y']])\n",
    "  points['LELBOW']        = np.array([df['Lt elbow_x'],                  df['Lt elbow_y']])\n",
    "  points['RWRIST']        = np.array([df['Rt wrist_x'],                  df['Rt wrist_y']])\n",
    "  points['LWRIST']        = np.array([df['Lt wrist_x'],                  df['Lt wrist_y']])\n",
    "  points['RINDEXFINGER']  = np.array([df['Rt hand index finger MCP_x'],  df['Rt hand index finger MCP_y']])\n",
    "  points['LINDEXFINGER']  = np.array([df['Lt hand index finger MCP_x'],  df['Lt hand index finger MCP_y']])\n",
    "  points['RLITTLEFINGER'] = np.array([df['Rt hand little finger MCP_x'], df['Rt hand little finger MCP_y']])\n",
    "  points['LLITTLEFINGER'] = np.array([df['Lt hand little finger MCP_x'], df['Lt hand little finger MCP_y']])\n",
    "\n",
    "  points['RMIDHAND'] = 0.5 * (points['RINDEXFINGER'] + points['RLITTLEFINGER'])\n",
    "  points['LMIDHAND'] = 0.5 * (points['LINDEXFINGER'] + points['LLITTLEFINGER'])\n",
    "\n",
    "  #Lower Body\n",
    "  points['RHIP']        = np.array([df['Rt ASIS_x'],       df['Rt ASIS_y']])\n",
    "  points['LHIP']        = np.array([df['Lt ASIS_x'],       df['Lt ASIS_y']])\n",
    "  points['RKNEE']       = np.array([df['Rt knee_x'],       df['Rt knee_y']])\n",
    "  points['LKNEE']       = np.array([df['Lt knee_x'],       df['Lt knee_y']])\n",
    "  points['RANKLE']      = np.array([df['Rt ankle_x'],      df['Rt ankle_y']])\n",
    "  points['LANKLE']      = np.array([df['Lt ankle_x'],      df['Lt ankle_y']])\n",
    "  points['RBIGTOE']     = np.array([df['Rt big toe_x'],    df['Rt big toe_y']])\n",
    "  points['LBIGTOE']     = np.array([df['Lt big toe_x'],    df['Lt big toe_y']])\n",
    "  points['RLITTLETOE']  = np.array([df['Rt little toe_x'], df['Rt little toe_y']])\n",
    "  points['LLITTLETOE']  = np.array([df['Lt little toe_x'], df['Lt little toe_y']])\n",
    "\n",
    "  points['RMIDFOOT']    = 0.5 * (points['RBIGTOE'] + points['RLITTLETOE'])\n",
    "  points['LMIDFOOT']    = 0.5 * (points['LBIGTOE'] + points['LLITTLETOE'])\n",
    "  return(points)\n",
    "\n",
    "def define_segment_vectors(points):\n",
    "  segments = {}\n",
    "  segments['RUpperArm'] = points['RELBOW']     - points['RSHOULDER']\n",
    "  segments['LUpperArm'] = points['LELBOW']     - points['LSHOULDER']\n",
    "  segments['RForearm']  = points['RWRIST']     - points['RELBOW']\n",
    "  segments['LForearm']  = points['LWRIST']     - points['LELBOW']\n",
    "  segments['RHand']     = (points['RMIDHAND']) - (points['RWRIST'])\n",
    "  segments['LHand']     = (points['LMIDHAND']) - (points['LWRIST'])\n",
    "  segments['RTrunk']    = (points['RHIP'])     - (points['RSHOULDER'])\n",
    "  segments['LTrunk']    = (points['LHIP'])     - (points['LSHOULDER'])\n",
    "\n",
    "  #Lower Body\n",
    "  segments['RThigh']    = (points['RKNEE'])    - (points['RHIP'])\n",
    "  segments['LThigh']    = (points['LKNEE'])    - (points['LHIP'])\n",
    "  segments['RShank']    = (points['RANKLE'])   - (points['RKNEE'])\n",
    "  segments['LShank']    = (points['LANKLE'])   - (points['LKNEE'])\n",
    "  segments['RFoot']     = (points['RMIDFOOT']) - (points['RANKLE'])\n",
    "  segments['LFoot']     = (points['LMIDFOOT']) - (points['LANKLE'])\n",
    "  return(segments)"
   ]
  },
  {
   "cell_type": "code",
   "execution_count": 46,
   "metadata": {
    "id": "oFb4Hi-nEY-v"
   },
   "outputs": [],
   "source": [
    "def construct_skeleton(points):\n",
    "  # define our 'paths'\n",
    "  paths = {}\n",
    "  paths['HEAD_X']    = np.array([points['NOSE'][0], points['LEYE'][0], points['REYE'][0], points['NOSE'][0]])\n",
    "  paths['HEAD_Y']    = np.array([points['NOSE'][1], points['LEYE'][1], points['REYE'][1], points['NOSE'][1]])\n",
    "\n",
    "  paths['L_ARM_X'] = np.array([points['LSHOULDER'][0], points['LELBOW'][0], points['LWRIST'][0], points['LINDEXFINGER'][0], points['LLITTLEFINGER'][0], points['LWRIST'][0]])\n",
    "  paths['L_ARM_Y'] = np.array([points['LSHOULDER'][1], points['LELBOW'][1], points['LWRIST'][1], points['LINDEXFINGER'][1], points['LLITTLEFINGER'][1], points['LWRIST'][1]])\n",
    "\n",
    "  paths['R_ARM_X'] = np.array([points['RSHOULDER'][0], points['RELBOW'][0], points['RWRIST'][0], points['RINDEXFINGER'][0], points['RLITTLEFINGER'][0], points['RWRIST'][0]])\n",
    "  paths['R_ARM_Y'] = np.array([points['RSHOULDER'][1], points['RELBOW'][1], points['RWRIST'][1], points['RINDEXFINGER'][1], points['RLITTLEFINGER'][1], points['RWRIST'][1]])\n",
    "\n",
    "  paths['TORSO_X'] = np.array([points['RSHOULDER'][0], points['STERNUM'][0], points['RSHOULDER'][0], points['RHIP'][0], points['STERNUM'][0], points['RHIP'][0], points['LHIP'][0], points['STERNUM'][0], points['LHIP'][0], points['LSHOULDER'][0], points['STERNUM'][0], points['LSHOULDER'][0], points['RSHOULDER'][0]])\n",
    "  paths['TORSO_Y'] = np.array([points['RSHOULDER'][1], points['STERNUM'][1], points['RSHOULDER'][1], points['RHIP'][1], points['STERNUM'][1], points['RHIP'][1], points['LHIP'][1], points['STERNUM'][1], points['LHIP'][1], points['LSHOULDER'][1], points['STERNUM'][1], points['LSHOULDER'][1], points['RSHOULDER'][1]])\n",
    "\n",
    "  paths['L_LEG_X'] = np.array([points['LHIP'][0], points['LKNEE'][0], points['LANKLE'][0], points['LBIGTOE'][0], points['LLITTLETOE'][0], points['LANKLE'][0]])\n",
    "  paths['L_LEG_Y'] = np.array([points['LHIP'][1], points['LKNEE'][1], points['LANKLE'][1], points['LBIGTOE'][1], points['LLITTLETOE'][1], points['LANKLE'][1]])\n",
    "\n",
    "  paths['R_LEG_X'] = np.array([points['RHIP'][0], points['RKNEE'][0], points['RANKLE'][0], points['RBIGTOE'][0], points['RLITTLETOE'][0], points['RANKLE'][0]])\n",
    "  paths['R_LEG_Y'] = np.array([points['RHIP'][1], points['RKNEE'][1], points['RANKLE'][1], points['RBIGTOE'][1], points['RLITTLETOE'][1], points['RANKLE'][1]])\n",
    "\n",
    "  return paths"
   ]
  },
  {
   "cell_type": "code",
   "execution_count": 47,
   "metadata": {
    "id": "UzUaEeEPEdQX"
   },
   "outputs": [],
   "source": [
    "\n",
    "def plot_skeleton(skeleton, frame):\n",
    "  fig, ax = plt.subplots(1,1, subplot_kw={'aspect':1}, figsize=(19.2,10.8))\n",
    "  ax.plot(skeleton['HEAD_X'][:,frame], skeleton['HEAD_Y'][:,frame], 'o-', alpha=0.5)\n",
    "  ax.plot(skeleton['R_ARM_X'][:,frame], skeleton['R_ARM_Y'][:,frame], 'o-', alpha=0.5)\n",
    "  ax.plot(skeleton['L_ARM_X'][:,frame], skeleton['L_ARM_Y'][:,frame], 'o-', alpha=0.5)\n",
    "  ax.plot(skeleton['TORSO_X'][:,frame], skeleton['TORSO_Y'][:,frame], 'o-', alpha=0.5)\n",
    "  ax.plot(skeleton['L_LEG_X'][:,frame], skeleton['L_LEG_Y'][:,frame], 'o-', alpha=0.5)\n",
    "  ax.plot(skeleton['R_LEG_X'][:,frame], skeleton['R_LEG_Y'][:,frame], 'o-', alpha=0.5)\n",
    "  ax.set_xlim(250,1500)\n",
    "  ax.set_ylim(0,1200)\n",
    "  ax.invert_yaxis()"
   ]
  },
  {
   "cell_type": "code",
   "execution_count": 48,
   "metadata": {
    "id": "zQpO7R28SmMn"
   },
   "outputs": [],
   "source": [
    "\n",
    "#Calculate Segment Angles\n",
    "def calculate_segment_angles(segments):\n",
    "  segment_thetas = {}\n",
    "  for k, v in segments.items():\n",
    "    segment_thetas[k] = np.arctan2(segments[k][1], segments[k][0])\n",
    "  return(segment_thetas)"
   ]
  },
  {
   "cell_type": "code",
   "execution_count": 49,
   "metadata": {
    "id": "SugZB_M0S5pG"
   },
   "outputs": [],
   "source": [
    "\n",
    "#unwrap segment angles\n",
    "def unwrap_segment_thetas(segment_thetas):\n",
    "  unwrapped_segment_thetas = {}\n",
    "  for k, v in segment_thetas.items():\n",
    "    unwrapped_segment_thetas[k] = np.unwrap(segment_thetas[k], period=2*np.pi)\n",
    "  return(unwrapped_segment_thetas)"
   ]
  },
  {
   "cell_type": "code",
   "execution_count": 50,
   "metadata": {
    "id": "A4kin9zYT4BA"
   },
   "outputs": [],
   "source": [
    " def calculate_joint_thetas(unwrapped_segment_thetas):\n",
    "\n",
    "  joint_thetas = {}\n",
    "\n",
    "  joint_thetas['RShoulder'] = unwrapped_segment_thetas['RUpperArm'] - unwrapped_segment_thetas['RTrunk']\n",
    "  joint_thetas['RElbow'] = -unwrapped_segment_thetas['RForearm'] - (np.pi - unwrapped_segment_thetas['RUpperArm'])\n",
    "  joint_thetas['RWrist'] = unwrapped_segment_thetas['RHand'] + (np.pi-unwrapped_segment_thetas['RForearm'])\n",
    "  joint_thetas['RHip'] = unwrapped_segment_thetas['RThigh'] - unwrapped_segment_thetas['RTrunk']\n",
    "  joint_thetas['RKnee'] = unwrapped_segment_thetas['RThigh'] - unwrapped_segment_thetas['RShank']\n",
    "  joint_thetas['RAnkle'] = unwrapped_segment_thetas['RFoot'] - unwrapped_segment_thetas['RShank']\n",
    "\n",
    "  joint_thetas['LShoulder'] = unwrapped_segment_thetas['LTrunk'] - unwrapped_segment_thetas['LUpperArm']\n",
    "  joint_thetas['LElbow'] = unwrapped_segment_thetas['LUpperArm'] + unwrapped_segment_thetas['LForearm']\n",
    "  joint_thetas['LWrist'] = np.pi - unwrapped_segment_thetas['LForearm'] + unwrapped_segment_thetas['LHand']\n",
    "  joint_thetas['LHip'] = unwrapped_segment_thetas['LTrunk'] - unwrapped_segment_thetas['LThigh']\n",
    "  joint_thetas['LKnee'] = unwrapped_segment_thetas['LShank'] - unwrapped_segment_thetas['LThigh']\n",
    "  joint_thetas['LAnkle'] = unwrapped_segment_thetas['LFoot'] - unwrapped_segment_thetas['LShank']\n",
    "\n",
    "  return(joint_thetas)"
   ]
  },
  {
   "cell_type": "code",
   "execution_count": 51,
   "metadata": {
    "id": "gyGC2KtkiHJR"
   },
   "outputs": [],
   "source": [
    "\n",
    "def process_baby(filename):\n",
    "  df = pd.read_csv(filename)\n",
    "  points = make_body_vector_pairs(df)\n",
    "  segments = define_segment_vectors(points)\n",
    "  paths = construct_skeleton(points)\n",
    "  segment_thetas = calculate_segment_angles(segments)\n",
    "  unwrapped_segment_thetas = unwrap_segment_thetas(segment_thetas)\n",
    "  joint_thetas = calculate_joint_thetas(unwrapped_segment_thetas)\n",
    "  return(points, segments, paths, segment_thetas, unwrapped_segment_thetas, joint_thetas)"
   ]
  },
  {
   "cell_type": "markdown",
   "metadata": {},
   "source": [
    "## Put your link here\n"
   ]
  },
  {
   "cell_type": "code",
   "execution_count": 52,
   "metadata": {
    "id": "kxnS9iooiJ33"
   },
   "outputs": [],
   "source": [
    "\n",
    "points_88on11_edited, segments_88on11_edited, paths_88on11_edited, segment_thetas_88on11_edited, unwrapped_segment_thetas_88on11_edited, joint_thetas_88on11_edited = process_baby('Output_88on5_2_Interpolated_edges_feet_hand_solved.csv')"
   ]
  },
  {
   "cell_type": "code",
   "execution_count": 53,
   "metadata": {
    "colab": {
     "base_uri": "https://localhost:8080/",
     "height": 588
    },
    "id": "ydsi_IokibDK",
    "outputId": "3e237f65-b094-4625-9eaa-d7c82cf1d3ed",
    "scrolled": true
   },
   "outputs": [
    {
     "name": "stderr",
     "output_type": "stream",
     "text": [
      "MovieWriter ffmeg unavailable; using Pillow instead.\n"
     ]
    },
    {
     "ename": "IndexError",
     "evalue": "index 1498 is out of bounds for axis 1 with size 1498",
     "output_type": "error",
     "traceback": [
      "\u001b[1;31m---------------------------------------------------------------------------\u001b[0m",
      "\u001b[1;31mIndexError\u001b[0m                                Traceback (most recent call last)",
      "Cell \u001b[1;32mIn[53], line 23\u001b[0m\n\u001b[0;32m     20\u001b[0m   \u001b[38;5;28;01mreturn\u001b[39;00m Head_line, Rarm_line, Larm_line, torso_line, Lleg_line, Rleg_line\n\u001b[0;32m     22\u001b[0m animation \u001b[38;5;241m=\u001b[39m FuncAnimation(fig, animate, frames\u001b[38;5;241m=\u001b[39m\u001b[38;5;241m1525\u001b[39m, interval\u001b[38;5;241m=\u001b[39m\u001b[38;5;241m200\u001b[39m, blit\u001b[38;5;241m=\u001b[39m\u001b[38;5;28;01mTrue\u001b[39;00m)\n\u001b[1;32m---> 23\u001b[0m \u001b[43manimation\u001b[49m\u001b[38;5;241;43m.\u001b[39;49m\u001b[43msave\u001b[49m\u001b[43m(\u001b[49m\u001b[38;5;124;43m'\u001b[39;49m\u001b[38;5;124;43mOutput_88on11_ANIMATION.gif\u001b[39;49m\u001b[38;5;124;43m'\u001b[39;49m\u001b[43m,\u001b[49m\u001b[43m \u001b[49m\u001b[43mwriter\u001b[49m\u001b[38;5;241;43m=\u001b[39;49m\u001b[38;5;124;43m'\u001b[39;49m\u001b[38;5;124;43mffmeg\u001b[39;49m\u001b[38;5;124;43m'\u001b[39;49m\u001b[43m,\u001b[49m\u001b[43m \u001b[49m\u001b[43mfps\u001b[49m\u001b[38;5;241;43m=\u001b[39;49m\u001b[38;5;241;43m25\u001b[39;49m\u001b[43m,\u001b[49m\u001b[43m \u001b[49m\u001b[43mdpi\u001b[49m\u001b[38;5;241;43m=\u001b[39;49m\u001b[38;5;241;43m200\u001b[39;49m\u001b[43m,\u001b[49m\u001b[43m \u001b[49m\u001b[43msavefig_kwargs\u001b[49m\u001b[38;5;241;43m=\u001b[39;49m\u001b[43m{\u001b[49m\u001b[38;5;124;43m'\u001b[39;49m\u001b[38;5;124;43mformat\u001b[39;49m\u001b[38;5;124;43m'\u001b[39;49m\u001b[43m:\u001b[49m\u001b[43m \u001b[49m\u001b[38;5;124;43m'\u001b[39;49m\u001b[38;5;124;43mmp4\u001b[39;49m\u001b[38;5;124;43m'\u001b[39;49m\u001b[43m}\u001b[49m\u001b[43m)\u001b[49m\n\u001b[0;32m     26\u001b[0m plt\u001b[38;5;241m.\u001b[39mshow()\n",
      "File \u001b[1;32m~\\AppData\\Roaming\\Python\\Python310\\site-packages\\matplotlib\\animation.py:1103\u001b[0m, in \u001b[0;36mAnimation.save\u001b[1;34m(self, filename, writer, fps, dpi, codec, bitrate, extra_args, metadata, extra_anim, savefig_kwargs, progress_callback)\u001b[0m\n\u001b[0;32m   1100\u001b[0m \u001b[38;5;28;01mfor\u001b[39;00m data \u001b[38;5;129;01min\u001b[39;00m \u001b[38;5;28mzip\u001b[39m(\u001b[38;5;241m*\u001b[39m[a\u001b[38;5;241m.\u001b[39mnew_saved_frame_seq() \u001b[38;5;28;01mfor\u001b[39;00m a \u001b[38;5;129;01min\u001b[39;00m all_anim]):\n\u001b[0;32m   1101\u001b[0m     \u001b[38;5;28;01mfor\u001b[39;00m anim, d \u001b[38;5;129;01min\u001b[39;00m \u001b[38;5;28mzip\u001b[39m(all_anim, data):\n\u001b[0;32m   1102\u001b[0m         \u001b[38;5;66;03m# TODO: See if turning off blit is really necessary\u001b[39;00m\n\u001b[1;32m-> 1103\u001b[0m         \u001b[43manim\u001b[49m\u001b[38;5;241;43m.\u001b[39;49m\u001b[43m_draw_next_frame\u001b[49m\u001b[43m(\u001b[49m\u001b[43md\u001b[49m\u001b[43m,\u001b[49m\u001b[43m \u001b[49m\u001b[43mblit\u001b[49m\u001b[38;5;241;43m=\u001b[39;49m\u001b[38;5;28;43;01mFalse\u001b[39;49;00m\u001b[43m)\u001b[49m\n\u001b[0;32m   1104\u001b[0m         \u001b[38;5;28;01mif\u001b[39;00m progress_callback \u001b[38;5;129;01mis\u001b[39;00m \u001b[38;5;129;01mnot\u001b[39;00m \u001b[38;5;28;01mNone\u001b[39;00m:\n\u001b[0;32m   1105\u001b[0m             progress_callback(frame_number, total_frames)\n",
      "File \u001b[1;32m~\\AppData\\Roaming\\Python\\Python310\\site-packages\\matplotlib\\animation.py:1138\u001b[0m, in \u001b[0;36mAnimation._draw_next_frame\u001b[1;34m(self, framedata, blit)\u001b[0m\n\u001b[0;32m   1134\u001b[0m \u001b[38;5;28;01mdef\u001b[39;00m \u001b[38;5;21m_draw_next_frame\u001b[39m(\u001b[38;5;28mself\u001b[39m, framedata, blit):\n\u001b[0;32m   1135\u001b[0m     \u001b[38;5;66;03m# Breaks down the drawing of the next frame into steps of pre- and\u001b[39;00m\n\u001b[0;32m   1136\u001b[0m     \u001b[38;5;66;03m# post- draw, as well as the drawing of the frame itself.\u001b[39;00m\n\u001b[0;32m   1137\u001b[0m     \u001b[38;5;28mself\u001b[39m\u001b[38;5;241m.\u001b[39m_pre_draw(framedata, blit)\n\u001b[1;32m-> 1138\u001b[0m     \u001b[38;5;28;43mself\u001b[39;49m\u001b[38;5;241;43m.\u001b[39;49m\u001b[43m_draw_frame\u001b[49m\u001b[43m(\u001b[49m\u001b[43mframedata\u001b[49m\u001b[43m)\u001b[49m\n\u001b[0;32m   1139\u001b[0m     \u001b[38;5;28mself\u001b[39m\u001b[38;5;241m.\u001b[39m_post_draw(framedata, blit)\n",
      "File \u001b[1;32m~\\AppData\\Roaming\\Python\\Python310\\site-packages\\matplotlib\\animation.py:1767\u001b[0m, in \u001b[0;36mFuncAnimation._draw_frame\u001b[1;34m(self, framedata)\u001b[0m\n\u001b[0;32m   1763\u001b[0m     \u001b[38;5;28mself\u001b[39m\u001b[38;5;241m.\u001b[39m_save_seq \u001b[38;5;241m=\u001b[39m \u001b[38;5;28mself\u001b[39m\u001b[38;5;241m.\u001b[39m_save_seq[\u001b[38;5;241m-\u001b[39m\u001b[38;5;28mself\u001b[39m\u001b[38;5;241m.\u001b[39m_save_count:]\n\u001b[0;32m   1765\u001b[0m \u001b[38;5;66;03m# Call the func with framedata and args. If blitting is desired,\u001b[39;00m\n\u001b[0;32m   1766\u001b[0m \u001b[38;5;66;03m# func needs to return a sequence of any artists that were modified.\u001b[39;00m\n\u001b[1;32m-> 1767\u001b[0m \u001b[38;5;28mself\u001b[39m\u001b[38;5;241m.\u001b[39m_drawn_artists \u001b[38;5;241m=\u001b[39m \u001b[38;5;28;43mself\u001b[39;49m\u001b[38;5;241;43m.\u001b[39;49m\u001b[43m_func\u001b[49m\u001b[43m(\u001b[49m\u001b[43mframedata\u001b[49m\u001b[43m,\u001b[49m\u001b[43m \u001b[49m\u001b[38;5;241;43m*\u001b[39;49m\u001b[38;5;28;43mself\u001b[39;49m\u001b[38;5;241;43m.\u001b[39;49m\u001b[43m_args\u001b[49m\u001b[43m)\u001b[49m\n\u001b[0;32m   1769\u001b[0m \u001b[38;5;28;01mif\u001b[39;00m \u001b[38;5;28mself\u001b[39m\u001b[38;5;241m.\u001b[39m_blit:\n\u001b[0;32m   1771\u001b[0m     err \u001b[38;5;241m=\u001b[39m \u001b[38;5;167;01mRuntimeError\u001b[39;00m(\u001b[38;5;124m'\u001b[39m\u001b[38;5;124mThe animation function must return a sequence \u001b[39m\u001b[38;5;124m'\u001b[39m\n\u001b[0;32m   1772\u001b[0m                        \u001b[38;5;124m'\u001b[39m\u001b[38;5;124mof Artist objects.\u001b[39m\u001b[38;5;124m'\u001b[39m)\n",
      "Cell \u001b[1;32mIn[53], line 14\u001b[0m, in \u001b[0;36manimate\u001b[1;34m(frame)\u001b[0m\n\u001b[0;32m     13\u001b[0m \u001b[38;5;28;01mdef\u001b[39;00m \u001b[38;5;21manimate\u001b[39m(frame):\n\u001b[1;32m---> 14\u001b[0m   Head_line\u001b[38;5;241m.\u001b[39mset_data(\u001b[43mskeleton\u001b[49m\u001b[43m[\u001b[49m\u001b[38;5;124;43m'\u001b[39;49m\u001b[38;5;124;43mHEAD_X\u001b[39;49m\u001b[38;5;124;43m'\u001b[39;49m\u001b[43m]\u001b[49m\u001b[43m[\u001b[49m\u001b[43m:\u001b[49m\u001b[43m,\u001b[49m\u001b[43mframe\u001b[49m\u001b[43m]\u001b[49m, skeleton[\u001b[38;5;124m'\u001b[39m\u001b[38;5;124mHEAD_Y\u001b[39m\u001b[38;5;124m'\u001b[39m][:,frame])\n\u001b[0;32m     15\u001b[0m   Rarm_line\u001b[38;5;241m.\u001b[39mset_data(skeleton[\u001b[38;5;124m'\u001b[39m\u001b[38;5;124mR_ARM_X\u001b[39m\u001b[38;5;124m'\u001b[39m][:,frame], skeleton[\u001b[38;5;124m'\u001b[39m\u001b[38;5;124mR_ARM_Y\u001b[39m\u001b[38;5;124m'\u001b[39m][:,frame])\n\u001b[0;32m     16\u001b[0m   Larm_line\u001b[38;5;241m.\u001b[39mset_data(skeleton[\u001b[38;5;124m'\u001b[39m\u001b[38;5;124mL_ARM_X\u001b[39m\u001b[38;5;124m'\u001b[39m][:,frame], skeleton[\u001b[38;5;124m'\u001b[39m\u001b[38;5;124mL_ARM_Y\u001b[39m\u001b[38;5;124m'\u001b[39m][:,frame])\n",
      "\u001b[1;31mIndexError\u001b[0m: index 1498 is out of bounds for axis 1 with size 1498"
     ]
    },
    {
     "data": {
      "image/png": "[encoded data removed]",
      "text/plain": [
       "<Figure size 1000x1000 with 1 Axes>"
      ]
     },
     "metadata": {},
     "output_type": "display_data"
    }
   ],
   "source": [
    "\n",
    "fig, ax = plt.subplots(1,1, subplot_kw={'aspect':1}, figsize=(10,10))\n",
    "skeleton = paths_88on11_edited\n",
    "Head_line,  = ax.plot(skeleton['HEAD_X'][:,0], skeleton['HEAD_Y'][:,0], 'o-', alpha=0.5)\n",
    "Rarm_line,  = ax.plot(skeleton['R_ARM_X'][:,0], skeleton['R_ARM_Y'][:,0], 'o-', alpha=0.5)\n",
    "Larm_line,  = ax.plot(skeleton['L_ARM_X'][:,0], skeleton['L_ARM_Y'][:,0], 'o-', alpha=0.5)\n",
    "torso_line, = ax.plot(skeleton['TORSO_X'][:,0], skeleton['TORSO_Y'][:,0], 'o-', alpha=0.5)\n",
    "Lleg_line,  = ax.plot(skeleton['L_LEG_X'][:,0], skeleton['L_LEG_Y'][:,0], 'o-', alpha=0.5)\n",
    "Rleg_line,  = ax.plot(skeleton['R_LEG_X'][:,0], skeleton['R_LEG_Y'][:,0], 'o-', alpha=0.5)\n",
    "ax.set_xlim(250,1500)\n",
    "ax.set_ylim(0,1200)\n",
    "ax.invert_yaxis()\n",
    "\n",
    "def animate(frame):\n",
    "  Head_line.set_data(skeleton['HEAD_X'][:,frame], skeleton['HEAD_Y'][:,frame])\n",
    "  Rarm_line.set_data(skeleton['R_ARM_X'][:,frame], skeleton['R_ARM_Y'][:,frame])\n",
    "  Larm_line.set_data(skeleton['L_ARM_X'][:,frame], skeleton['L_ARM_Y'][:,frame])\n",
    "  torso_line.set_data(skeleton['TORSO_X'][:,frame], skeleton['TORSO_Y'][:,frame])\n",
    "  Lleg_line.set_data(skeleton['L_LEG_X'][:,frame], skeleton['L_LEG_Y'][:,frame])\n",
    "  Rleg_line.set_data(skeleton['R_LEG_X'][:,frame], skeleton['R_LEG_Y'][:,frame])\n",
    "  return Head_line, Rarm_line, Larm_line, torso_line, Lleg_line, Rleg_line\n",
    "\n",
    "animation = FuncAnimation(fig, animate, frames=1525, interval=200, blit=True)\n",
    "animation.save('Output_88on11_ANIMATION.gif', writer='ffmeg', fps=25, dpi=200, savefig_kwargs={'format': 'mp4'})\n",
    "\n",
    "\n",
    "plt.show()"
   ]
  },
  {
   "cell_type": "markdown",
   "metadata": {
    "id": "GMuRLIbyWBxQ"
   },
   "source": [
    "### gif transformation\n"
   ]
  },
  {
   "cell_type": "code",
   "execution_count": 56,
   "metadata": {},
   "outputs": [
    {
     "ename": "KeyError",
     "evalue": "'MP4'",
     "output_type": "error",
     "traceback": [
      "\u001b[1;31m---------------------------------------------------------------------------\u001b[0m",
      "\u001b[1;31mKeyError\u001b[0m                                  Traceback (most recent call last)",
      "Cell \u001b[1;32mIn[56], line 14\u001b[0m\n\u001b[0;32m     10\u001b[0m         frames\u001b[38;5;241m.\u001b[39mappend(img)\n\u001b[0;32m     12\u001b[0m     frames[\u001b[38;5;241m0\u001b[39m]\u001b[38;5;241m.\u001b[39msave(mp4_path, \u001b[38;5;28mformat\u001b[39m\u001b[38;5;241m=\u001b[39m\u001b[38;5;124m'\u001b[39m\u001b[38;5;124mMP4\u001b[39m\u001b[38;5;124m'\u001b[39m, append_images\u001b[38;5;241m=\u001b[39mframes[\u001b[38;5;241m1\u001b[39m:], save_all\u001b[38;5;241m=\u001b[39m\u001b[38;5;28;01mTrue\u001b[39;00m, fps\u001b[38;5;241m=\u001b[39mfps)\n\u001b[1;32m---> 14\u001b[0m \u001b[43mconvert_gif_to_mp4\u001b[49m\u001b[43m(\u001b[49m\u001b[38;5;124;43m\"\u001b[39;49m\u001b[38;5;124;43mC:/Users/benjq/OneDrive/Bureau/Stage/For Benjamin/For Benjamin/Output_88on11_ANIMATION.gif\u001b[39;49m\u001b[38;5;124;43m\"\u001b[39;49m\u001b[43m,\u001b[49m\u001b[43m \u001b[49m\u001b[38;5;124;43m\"\u001b[39;49m\u001b[38;5;124;43mC:\u001b[39;49m\u001b[38;5;130;43;01m\\\\\u001b[39;49;00m\u001b[38;5;124;43mUsers\u001b[39;49m\u001b[38;5;130;43;01m\\\\\u001b[39;49;00m\u001b[38;5;124;43mbenjq\u001b[39;49m\u001b[38;5;130;43;01m\\\\\u001b[39;49;00m\u001b[38;5;124;43mOneDrive\u001b[39;49m\u001b[38;5;130;43;01m\\\\\u001b[39;49;00m\u001b[38;5;124;43mBureau\u001b[39;49m\u001b[38;5;130;43;01m\\\\\u001b[39;49;00m\u001b[38;5;124;43mStage\u001b[39;49m\u001b[38;5;130;43;01m\\\\\u001b[39;49;00m\u001b[38;5;124;43mFor Benjamin\u001b[39;49m\u001b[38;5;130;43;01m\\\\\u001b[39;49;00m\u001b[38;5;124;43mFor Benjamin\u001b[39;49m\u001b[38;5;130;43;01m\\\\\u001b[39;49;00m\u001b[38;5;124;43mAnimation\u001b[39;49m\u001b[38;5;130;43;01m\\\\\u001b[39;49;00m\u001b[38;5;124;43m54Video.mp4\u001b[39;49m\u001b[38;5;124;43m\"\u001b[39;49m\u001b[43m,\u001b[49m\u001b[43m \u001b[49m\u001b[38;5;241;43m25\u001b[39;49m\u001b[43m)\u001b[49m\n",
      "Cell \u001b[1;32mIn[56], line 12\u001b[0m, in \u001b[0;36mconvert_gif_to_mp4\u001b[1;34m(gif_path, mp4_path, fps)\u001b[0m\n\u001b[0;32m      9\u001b[0m     img \u001b[38;5;241m=\u001b[39m img\u001b[38;5;241m.\u001b[39mconvert(\u001b[38;5;124m\"\u001b[39m\u001b[38;5;124mRGB\u001b[39m\u001b[38;5;124m\"\u001b[39m)  \u001b[38;5;66;03m# Convert all frames to RGB format\u001b[39;00m\n\u001b[0;32m     10\u001b[0m     frames\u001b[38;5;241m.\u001b[39mappend(img)\n\u001b[1;32m---> 12\u001b[0m \u001b[43mframes\u001b[49m\u001b[43m[\u001b[49m\u001b[38;5;241;43m0\u001b[39;49m\u001b[43m]\u001b[49m\u001b[38;5;241;43m.\u001b[39;49m\u001b[43msave\u001b[49m\u001b[43m(\u001b[49m\u001b[43mmp4_path\u001b[49m\u001b[43m,\u001b[49m\u001b[43m \u001b[49m\u001b[38;5;28;43mformat\u001b[39;49m\u001b[38;5;241;43m=\u001b[39;49m\u001b[38;5;124;43m'\u001b[39;49m\u001b[38;5;124;43mMP4\u001b[39;49m\u001b[38;5;124;43m'\u001b[39;49m\u001b[43m,\u001b[49m\u001b[43m \u001b[49m\u001b[43mappend_images\u001b[49m\u001b[38;5;241;43m=\u001b[39;49m\u001b[43mframes\u001b[49m\u001b[43m[\u001b[49m\u001b[38;5;241;43m1\u001b[39;49m\u001b[43m:\u001b[49m\u001b[43m]\u001b[49m\u001b[43m,\u001b[49m\u001b[43m \u001b[49m\u001b[43msave_all\u001b[49m\u001b[38;5;241;43m=\u001b[39;49m\u001b[38;5;28;43;01mTrue\u001b[39;49;00m\u001b[43m,\u001b[49m\u001b[43m \u001b[49m\u001b[43mfps\u001b[49m\u001b[38;5;241;43m=\u001b[39;49m\u001b[43mfps\u001b[49m\u001b[43m)\u001b[49m\n",
      "File \u001b[1;32m~\\AppData\\Local\\Programs\\Python\\Python310\\lib\\site-packages\\PIL\\Image.py:2398\u001b[0m, in \u001b[0;36mImage.save\u001b[1;34m(self, fp, format, **params)\u001b[0m\n\u001b[0;32m   2396\u001b[0m     init()\n\u001b[0;32m   2397\u001b[0m \u001b[38;5;28;01mif\u001b[39;00m save_all:\n\u001b[1;32m-> 2398\u001b[0m     save_handler \u001b[38;5;241m=\u001b[39m \u001b[43mSAVE_ALL\u001b[49m\u001b[43m[\u001b[49m\u001b[38;5;28;43mformat\u001b[39;49m\u001b[38;5;241;43m.\u001b[39;49m\u001b[43mupper\u001b[49m\u001b[43m(\u001b[49m\u001b[43m)\u001b[49m\u001b[43m]\u001b[49m\n\u001b[0;32m   2399\u001b[0m \u001b[38;5;28;01melse\u001b[39;00m:\n\u001b[0;32m   2400\u001b[0m     save_handler \u001b[38;5;241m=\u001b[39m SAVE[\u001b[38;5;28mformat\u001b[39m\u001b[38;5;241m.\u001b[39mupper()]\n",
      "\u001b[1;31mKeyError\u001b[0m: 'MP4'"
     ]
    }
   ],
   "source": [
    "import imageio\n",
    "\n",
    "def convert_gif_to_mp4(gif_path, mp4_path, fps=25):\n",
    "    # Lecture du GIF par blocs\n",
    "    reader = imageio.get_reader(gif_path)\n",
    "\n",
    "    # Écriture du MP4\n",
    "    writer = imageio.get_writer(mp4_path, fps=fps)\n",
    "    for frame in reader:\n",
    "        writer.append_data(frame)\n",
    "    writer.close()\n",
    "\n",
    "# Utilisation de la fonction pour convertir un GIF en MP4\n",
    "#Put the good link to the gif firts and the MP4 you want in second\n",
    "convert_gif_to_mp4(\"C:/Users/benjq/OneDrive/Bureau/Stage/For Benjamin/For Benjamin/Output_88on11_ANIMATION.gif\", \"C:\\\\Users\\\\benjq\\\\OneDrive\\\\Bureau\\\\Stage\\\\For Benjamin\\\\For Benjamin\\\\Animation\\\\54Video.mp4\", 25)\n"
   ]
  },
  {
   "cell_type": "code",
   "execution_count": 2,
   "metadata": {},
   "outputs": [
    {
     "ename": "ValueError",
     "evalue": "All images in a movie should have same number of channels",
     "output_type": "error",
     "traceback": [
      "\u001b[1;31m---------------------------------------------------------------------------\u001b[0m",
      "\u001b[1;31mValueError\u001b[0m                                Traceback (most recent call last)",
      "Cell \u001b[1;32mIn[2], line 21\u001b[0m\n\u001b[0;32m     18\u001b[0m gif_file \u001b[38;5;241m=\u001b[39m \u001b[38;5;124m'\u001b[39m\u001b[38;5;124mC:/Users/benjq/OneDrive/Bureau/Stage/For Benjamin/For Benjamin/Output_88on11_ANIMATION.gif\u001b[39m\u001b[38;5;124m'\u001b[39m\n\u001b[0;32m     19\u001b[0m mp4_file \u001b[38;5;241m=\u001b[39m \u001b[38;5;124m'\u001b[39m\u001b[38;5;124mC:\u001b[39m\u001b[38;5;130;01m\\\\\u001b[39;00m\u001b[38;5;124mUsers\u001b[39m\u001b[38;5;130;01m\\\\\u001b[39;00m\u001b[38;5;124mbenjq\u001b[39m\u001b[38;5;130;01m\\\\\u001b[39;00m\u001b[38;5;124mOneDrive\u001b[39m\u001b[38;5;130;01m\\\\\u001b[39;00m\u001b[38;5;124mBureau\u001b[39m\u001b[38;5;130;01m\\\\\u001b[39;00m\u001b[38;5;124mStage\u001b[39m\u001b[38;5;130;01m\\\\\u001b[39;00m\u001b[38;5;124mFor Benjamin\u001b[39m\u001b[38;5;130;01m\\\\\u001b[39;00m\u001b[38;5;124mFor Benjamin\u001b[39m\u001b[38;5;130;01m\\\\\u001b[39;00m\u001b[38;5;124mAnimation\u001b[39m\u001b[38;5;130;01m\\\\\u001b[39;00m\u001b[38;5;124m23Video.mp4\u001b[39m\u001b[38;5;124m'\u001b[39m\n\u001b[1;32m---> 21\u001b[0m \u001b[43mgif_to_mp4\u001b[49m\u001b[43m(\u001b[49m\u001b[43mgif_file\u001b[49m\u001b[43m,\u001b[49m\u001b[43m \u001b[49m\u001b[43mmp4_file\u001b[49m\u001b[43m)\u001b[49m\n",
      "Cell \u001b[1;32mIn[2], line 12\u001b[0m, in \u001b[0;36mgif_to_mp4\u001b[1;34m(gif_file, mp4_file)\u001b[0m\n\u001b[0;32m     10\u001b[0m         frame \u001b[38;5;241m=\u001b[39m imageio\u001b[38;5;241m.\u001b[39mcore\u001b[38;5;241m.\u001b[39mutil\u001b[38;5;241m.\u001b[39marray_to_image(frame, \u001b[38;5;28mformat\u001b[39m\u001b[38;5;241m=\u001b[39m\u001b[38;5;124m'\u001b[39m\u001b[38;5;124mL\u001b[39m\u001b[38;5;124m'\u001b[39m)\n\u001b[0;32m     11\u001b[0m         frame \u001b[38;5;241m=\u001b[39m frame\u001b[38;5;241m.\u001b[39mconvert(\u001b[38;5;124m'\u001b[39m\u001b[38;5;124mRGB\u001b[39m\u001b[38;5;124m'\u001b[39m)\n\u001b[1;32m---> 12\u001b[0m     \u001b[43mwriter\u001b[49m\u001b[38;5;241;43m.\u001b[39;49m\u001b[43mappend_data\u001b[49m\u001b[43m(\u001b[49m\u001b[43mframe\u001b[49m\u001b[43m)\u001b[49m\n\u001b[0;32m     14\u001b[0m reader\u001b[38;5;241m.\u001b[39mclose()\n\u001b[0;32m     15\u001b[0m writer\u001b[38;5;241m.\u001b[39mclose()\n",
      "File \u001b[1;32m~\\AppData\\Local\\Programs\\Python\\Python310\\lib\\site-packages\\imageio\\core\\format.py:590\u001b[0m, in \u001b[0;36mFormat.Writer.append_data\u001b[1;34m(self, im, meta)\u001b[0m\n\u001b[0;32m    588\u001b[0m im \u001b[38;5;241m=\u001b[39m asarray(im)\n\u001b[0;32m    589\u001b[0m \u001b[38;5;66;03m# Call\u001b[39;00m\n\u001b[1;32m--> 590\u001b[0m \u001b[38;5;28;01mreturn\u001b[39;00m \u001b[38;5;28;43mself\u001b[39;49m\u001b[38;5;241;43m.\u001b[39;49m\u001b[43m_append_data\u001b[49m\u001b[43m(\u001b[49m\u001b[43mim\u001b[49m\u001b[43m,\u001b[49m\u001b[43m \u001b[49m\u001b[43mtotal_meta\u001b[49m\u001b[43m)\u001b[49m\n",
      "File \u001b[1;32m~\\AppData\\Local\\Programs\\Python\\Python310\\lib\\site-packages\\imageio\\plugins\\ffmpeg.py:593\u001b[0m, in \u001b[0;36mFfmpegFormat.Writer._append_data\u001b[1;34m(self, im, meta)\u001b[0m\n\u001b[0;32m    591\u001b[0m     \u001b[38;5;28;01mraise\u001b[39;00m \u001b[38;5;167;01mValueError\u001b[39;00m(\u001b[38;5;124m\"\u001b[39m\u001b[38;5;124mAll images in a movie should have same size\u001b[39m\u001b[38;5;124m\"\u001b[39m)\n\u001b[0;32m    592\u001b[0m \u001b[38;5;28;01mif\u001b[39;00m depth \u001b[38;5;241m!=\u001b[39m \u001b[38;5;28mself\u001b[39m\u001b[38;5;241m.\u001b[39m_depth:\n\u001b[1;32m--> 593\u001b[0m     \u001b[38;5;28;01mraise\u001b[39;00m \u001b[38;5;167;01mValueError\u001b[39;00m(\n\u001b[0;32m    594\u001b[0m         \u001b[38;5;124m\"\u001b[39m\u001b[38;5;124mAll images in a movie should have same \u001b[39m\u001b[38;5;124m\"\u001b[39m \u001b[38;5;124m\"\u001b[39m\u001b[38;5;124mnumber of channels\u001b[39m\u001b[38;5;124m\"\u001b[39m\n\u001b[0;32m    595\u001b[0m     )\n\u001b[0;32m    597\u001b[0m \u001b[38;5;28;01massert\u001b[39;00m \u001b[38;5;28mself\u001b[39m\u001b[38;5;241m.\u001b[39m_write_gen \u001b[38;5;129;01mis\u001b[39;00m \u001b[38;5;129;01mnot\u001b[39;00m \u001b[38;5;28;01mNone\u001b[39;00m  \u001b[38;5;66;03m# Check status\u001b[39;00m\n\u001b[0;32m    599\u001b[0m \u001b[38;5;66;03m# Write. Yes, we can send the data in as a numpy array\u001b[39;00m\n",
      "\u001b[1;31mValueError\u001b[0m: All images in a movie should have same number of channels"
     ]
    }
   ],
   "source": [
    "import imageio\n",
    "\n",
    "def gif_to_mp4(gif_file, mp4_file):\n",
    "    reader = imageio.get_reader(gif_file)\n",
    "    fps = reader.get_meta_data().get('fps', 10)\n",
    "    writer = imageio.get_writer(mp4_file, fps=fps)\n",
    "    \n",
    "    for frame in reader:\n",
    "        if frame.ndim == 2:\n",
    "            frame = imageio.core.util.array_to_image(frame, format='L')\n",
    "            frame = frame.convert('RGB')\n",
    "        writer.append_data(frame)\n",
    "    \n",
    "    reader.close()\n",
    "    writer.close()\n",
    "    \n",
    "# Example usage\n",
    "gif_file = 'C:/Users/benjq/OneDrive/Bureau/Stage/For Benjamin/For Benjamin/Output_88on11_ANIMATION.gif'\n",
    "mp4_file = 'C:\\\\Users\\\\benjq\\\\OneDrive\\\\Bureau\\\\Stage\\\\For Benjamin\\\\For Benjamin\\\\Animation\\\\23Video.mp4'\n",
    "\n",
    "gif_to_mp4(gif_file, mp4_file)\n"
   ]
  },
  {
   "cell_type": "markdown",
   "metadata": {},
   "source": [
    "## Put the skeleton on the baby\n"
   ]
  },
  {
   "cell_type": "code",
   "execution_count": 1,
   "metadata": {},
   "outputs": [
    {
     "ename": "NameError",
     "evalue": "name 'paths_88on11_edited' is not defined",
     "output_type": "error",
     "traceback": [
      "\u001b[1;31m---------------------------------------------------------------------------\u001b[0m",
      "\u001b[1;31mNameError\u001b[0m                                 Traceback (most recent call last)",
      "Cell \u001b[1;32mIn[1], line 81\u001b[0m\n\u001b[0;32m     78\u001b[0m fig, ax \u001b[38;5;241m=\u001b[39m plt\u001b[38;5;241m.\u001b[39msubplots(\u001b[38;5;241m1\u001b[39m, \u001b[38;5;241m1\u001b[39m, figsize\u001b[38;5;241m=\u001b[39m(\u001b[38;5;241m10\u001b[39m, \u001b[38;5;241m8\u001b[39m))\n\u001b[0;32m     80\u001b[0m \u001b[38;5;66;03m# Call the function to create and save the skeleton animation\u001b[39;00m\n\u001b[1;32m---> 81\u001b[0m \u001b[43mcreate_skeleton_animation\u001b[49m\u001b[43m(\u001b[49m\u001b[43mfig\u001b[49m\u001b[43m,\u001b[49m\u001b[43m \u001b[49m\u001b[43max\u001b[49m\u001b[43m)\u001b[49m\n",
      "Cell \u001b[1;32mIn[1], line 16\u001b[0m, in \u001b[0;36mcreate_skeleton_animation\u001b[1;34m(fig, ax)\u001b[0m\n\u001b[0;32m     12\u001b[0m output_filename \u001b[38;5;241m=\u001b[39m \u001b[38;5;124mr\u001b[39m\u001b[38;5;124m\"\u001b[39m\u001b[38;5;124mC:\u001b[39m\u001b[38;5;130;01m\\\\\u001b[39;00m\u001b[38;5;124mUsers\u001b[39m\u001b[38;5;130;01m\\\\\u001b[39;00m\u001b[38;5;124mbenjq\u001b[39m\u001b[38;5;130;01m\\\\\u001b[39;00m\u001b[38;5;124mOneDrive\u001b[39m\u001b[38;5;130;01m\\\\\u001b[39;00m\u001b[38;5;124mBureau\u001b[39m\u001b[38;5;130;01m\\\\\u001b[39;00m\u001b[38;5;124mStage\u001b[39m\u001b[38;5;130;01m\\\\\u001b[39;00m\u001b[38;5;124mFor Benjamin\u001b[39m\u001b[38;5;130;01m\\\\\u001b[39;00m\u001b[38;5;124mFor Benjamin\u001b[39m\u001b[38;5;130;01m\\\\\u001b[39;00m\u001b[38;5;124mAnimation\u001b[39m\u001b[38;5;130;01m\\\\\u001b[39;00m\u001b[38;5;124mP0005_Skeleton.mp4\u001b[39m\u001b[38;5;124m\"\u001b[39m\n\u001b[0;32m     14\u001b[0m background_clip \u001b[38;5;241m=\u001b[39m cv2\u001b[38;5;241m.\u001b[39mVideoCapture(\u001b[38;5;124m\"\u001b[39m\u001b[38;5;124mD:\u001b[39m\u001b[38;5;130;01m\\\\\u001b[39;00m\u001b[38;5;124mBabies_video\u001b[39m\u001b[38;5;130;01m\\\\\u001b[39;00m\u001b[38;5;124mP0005 Fidgety Video.mp4\u001b[39m\u001b[38;5;124m\"\u001b[39m)\n\u001b[1;32m---> 16\u001b[0m skeleton \u001b[38;5;241m=\u001b[39m \u001b[43mpaths_88on11_edited\u001b[49m\n\u001b[0;32m     17\u001b[0m ax\u001b[38;5;241m.\u001b[39minvert_yaxis()\n\u001b[0;32m     19\u001b[0m \u001b[38;5;66;03m# Calculate the total number of frames\u001b[39;00m\n",
      "\u001b[1;31mNameError\u001b[0m: name 'paths_88on11_edited' is not defined"
     ]
    },
    {
     "data": {
      "image/png": "[encoded data removed]",
      "text/plain": [
       "<Figure size 1000x800 with 1 Axes>"
      ]
     },
     "metadata": {},
     "output_type": "display_data"
    }
   ],
   "source": [
    "import matplotlib.pyplot as plt\n",
    "from matplotlib.animation import FuncAnimation\n",
    "import cv2\n",
    "import numpy as np\n",
    "from tqdm import tqdm\n",
    "import imageio\n",
    "\n",
    "def create_skeleton_animation(fig, ax):\n",
    "    # Set up the video properties\n",
    "    width, height = 1920, 1080\n",
    "    fps = 25\n",
    "    output_filename = r\"C:\\\\Users\\\\benjq\\\\OneDrive\\\\Bureau\\\\Stage\\\\For Benjamin\\\\For Benjamin\\\\Animation\\\\P0005_Skeleton.mp4\"\n",
    "\n",
    "    background_clip = cv2.VideoCapture(\"D:\\\\Babies_video\\\\P0005 Fidgety Video.mp4\")\n",
    "\n",
    "    skeleton = paths_88on11_edited\n",
    "    ax.invert_yaxis()\n",
    "\n",
    "    # Calculate the total number of frames\n",
    "    total_frames = min(background_clip.get(cv2.CAP_PROP_FRAME_COUNT), skeleton['HEAD_X'].shape[1])\n",
    "\n",
    "    # Set macro_block_size to 1 to disable resizing warning\n",
    "    imageio.plugins.ffmpeg.macro_block_size = 1\n",
    "\n",
    "    def animate(frame):\n",
    "        _, background_frame = background_clip.read()\n",
    "\n",
    "        if background_frame is None:\n",
    "            return\n",
    "\n",
    "        background_frame = cv2.cvtColor(background_frame, cv2.COLOR_BGR2RGB)\n",
    "\n",
    "        ax.clear()  # Clear the plot\n",
    "\n",
    "        # Calculate the corresponding frame index in the skeleton data\n",
    "        skeleton_frame_index = int(frame * skeleton['HEAD_X'].shape[1] / total_frames)\n",
    "\n",
    "        # Draw the background image without resizing\n",
    "        ax.imshow(background_frame, aspect='auto', extent=(0, width, 0, height), interpolation='none')\n",
    "\n",
    "        # Draw the skeleton lines on the plot\n",
    "        x_shift = 0  # Adjust this value to change the horizontal shift\n",
    "        y_shift = 0  # Adjust this value to change the vertical shift\n",
    "        ax.plot(skeleton['HEAD_X'][:, skeleton_frame_index] + x_shift, -skeleton['HEAD_Y'][:, skeleton_frame_index] + height + y_shift, 'o-', alpha=0.5)\n",
    "        ax.plot(skeleton['R_ARM_X'][:, skeleton_frame_index] + x_shift, -skeleton['R_ARM_Y'][:, skeleton_frame_index] + height + y_shift, 'o-', alpha=0.5)\n",
    "        ax.plot(skeleton['L_ARM_X'][:, skeleton_frame_index] + x_shift, -skeleton['L_ARM_Y'][:, skeleton_frame_index] + height + y_shift, 'o-', alpha=0.5)\n",
    "        ax.plot(skeleton['TORSO_X'][:, skeleton_frame_index] + x_shift, -skeleton['TORSO_Y'][:, skeleton_frame_index] + height + y_shift, 'o-', alpha=0.5)\n",
    "        ax.plot(skeleton['L_LEG_X'][:, skeleton_frame_index] + x_shift, -skeleton['L_LEG_Y'][:, skeleton_frame_index] + height + y_shift, 'o-', alpha=0.5)\n",
    "        ax.plot(skeleton['R_LEG_X'][:, skeleton_frame_index] + x_shift, -skeleton['R_LEG_Y'][:, skeleton_frame_index] + height + y_shift, 'o-', alpha=0.5)\n",
    "\n",
    "    # Create the animation\n",
    "    animation = FuncAnimation(fig, animate, frames=total_frames, interval=200, blit=False, repeat=False)\n",
    "\n",
    "    # Create a list to store the frames\n",
    "    frames = []\n",
    "\n",
    "    # Render the animation and store the frames\n",
    "    for frame in tqdm(range(total_frames), desc=\"Processing Frames\", unit=\"frame\"):\n",
    "        animate(frame)\n",
    "        fig.canvas.draw()\n",
    "\n",
    "        # Convert the plot to an image array\n",
    "        image = np.array(fig.canvas.renderer._renderer)\n",
    "        frames.append(image)\n",
    "\n",
    "    # Save the frames as a video using imageio\n",
    "    with imageio.get_writer(output_filename, fps=fps) as writer:\n",
    "        for frame in frames:\n",
    "            writer.append_data(frame)\n",
    "\n",
    "    # Release the resources\n",
    "    plt.close(fig)\n",
    "    background_clip.release()\n",
    "\n",
    "    print(\"Skeleton animation created and saved successfully!\")\n",
    "\n",
    "# Set up the figure and axes outside the function\n",
    "fig, ax = plt.subplots(1, 1, figsize=(10, 8))\n",
    "\n",
    "# Call the function to create and save the skeleton animation\n",
    "create_skeleton_animation(fig, ax)\n"
   ]
  },
  {
   "cell_type": "markdown",
   "metadata": {},
   "source": [
    "# Compare the result"
   ]
  },
  {
   "cell_type": "markdown",
   "metadata": {},
   "source": [
    "# this code just pute two video next to each other \n"
   ]
  },
  {
   "cell_type": "code",
   "execution_count": 41,
   "metadata": {},
   "outputs": [],
   "source": [
    "import cv2\n",
    "import os\n",
    "\n",
    "def combine_videos(video1_path, video2_path, output_filename):\n",
    "    cap1 = cv2.VideoCapture(video1_path)\n",
    "    cap2 = cv2.VideoCapture(video2_path)\n",
    "\n",
    "    # Get video properties from the first video\n",
    "    frame_width = int(cap1.get(cv2.CAP_PROP_FRAME_WIDTH))\n",
    "    frame_height = int(cap1.get(cv2.CAP_PROP_FRAME_HEIGHT))\n",
    "    fps = cap1.get(cv2.CAP_PROP_FPS)\n",
    "\n",
    "    # Create VideoWriter object to save the output video\n",
    "    output_path = os.path.join(os.getcwd(), output_filename + '.mp4')\n",
    "    fourcc = cv2.VideoWriter_fourcc(*'FFV1')\n",
    "    out = cv2.VideoWriter(output_path, fourcc, fps, (frame_width * 2, frame_height), isColor=False)\n",
    "\n",
    "    while cap1.isOpened() and cap2.isOpened():\n",
    "        ret1, frame1 = cap1.read()\n",
    "        ret2, frame2 = cap2.read()\n",
    "\n",
    "        if ret1 and ret2:\n",
    "            frame1 = cv2.resize(frame1, (frame_width, frame_height))\n",
    "            frame2 = cv2.resize(frame2, (frame_width, frame_height))\n",
    "            frame = cv2.hconcat([frame1, frame2])  # Concatenate frames horizontally\n",
    "\n",
    "            out.write(frame)  # Write the frame to the output video\n",
    "\n",
    "            cv2.imshow('Combined Video', frame)\n",
    "\n",
    "            if cv2.waitKey(25) & 0xFF == ord('q'):\n",
    "                break\n",
    "        else:\n",
    "            break\n",
    "\n",
    "    # Release resources\n",
    "    cap1.release()\n",
    "    cap2.release()\n",
    "    out.release()\n",
    "    cv2.destroyAllWindows()\n",
    "\n",
    "# Provide the paths of the two videos and the desired output filename\n",
    "video1_path = 'C:\\\\Users\\\\benjq\\\\OneDrive\\\\Bureau\\\\Stage\\\\For Benjamin\\\\For Benjamin\\\\Animation\\\\P0054_Skeleton.mp4'\n",
    "video2_path = 'D:\\\\Babies_video\\\\P0054 Fidgety VideoDLC_resnet152_Waikato DHB 24MS-P3May18shuffle1_700000_labeled.mp4'\n",
    "output_filename = 'C:\\\\Users\\\\benjq\\\\OneDrive\\\\Bureau\\\\Stage\\\\For Benjamin\\\\For Benjamin\\\\Animation\\\\Combinated_video_baby_0054'\n",
    "\n",
    "combine_videos(video1_path, video2_path, output_filename)\n",
    "\n"
   ]
  },
  {
   "cell_type": "code",
   "execution_count": null,
   "metadata": {},
   "outputs": [],
   "source": []
  }
 ],
 "metadata": {
  "colab": {
   "provenance": []
  },
  "kernelspec": {
   "display_name": "Python 3 (ipykernel)",
   "language": "python",
   "name": "python3"
  },
  "language_info": {
   "codemirror_mode": {
    "name": "ipython",
    "version": 3
   },
   "file_extension": ".py",
   "mimetype": "text/x-python",
   "name": "python",
   "nbconvert_exporter": "python",
   "pygments_lexer": "ipython3",
   "version": "3.10.11"
  }
 },
 "nbformat": 4,
 "nbformat_minor": 1
}
